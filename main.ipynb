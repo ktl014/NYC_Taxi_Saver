{
 "cells": [
  {
   "cell_type": "code",
   "execution_count": 11,
   "metadata": {},
   "outputs": [
    {
     "data": {
      "text/html": [
       "<script type=\"text/javascript\">window.PlotlyConfig = {MathJaxConfig: 'local'};</script><script type=\"text/javascript\">if (window.MathJax) {MathJax.Hub.Config({SVG: {font: \"STIX-Web\"}});}</script><script>requirejs.config({paths: { 'plotly': ['https://cdn.plot.ly/plotly-latest.min']},});if(!window._Plotly) {require(['plotly'],function(plotly) {window._Plotly=plotly;});}</script>"
      ],
      "text/vnd.plotly.v1+html": [
       "<script type=\"text/javascript\">window.PlotlyConfig = {MathJaxConfig: 'local'};</script><script type=\"text/javascript\">if (window.MathJax) {MathJax.Hub.Config({SVG: {font: \"STIX-Web\"}});}</script><script>requirejs.config({paths: { 'plotly': ['https://cdn.plot.ly/plotly-latest.min']},});if(!window._Plotly) {require(['plotly'],function(plotly) {window._Plotly=plotly;});}</script>"
      ]
     },
     "metadata": {},
     "output_type": "display_data"
    }
   ],
   "source": [
    "from data.dataset import Dataset\n",
    "import warnings\n",
    "import os\n",
    "warnings.filterwarnings(\"ignore\")\n",
    "import matplotlib.pyplot as plt \n",
    "%matplotlib inline\n",
    "import scipy\n",
    "from scipy import stats\n",
    "import numpy as np\n",
    "import seaborn as sns\n",
    "import itertools\n",
    "import plotly.offline as py\n",
    "py.init_notebook_mode(connected=True)\n",
    "import plotly.graph_objs as go\n",
    "import plotly.tools as tls\n",
    "import plotly.figure_factory as ff\n",
    "import plotly.io as pio"
   ]
  },
  {
   "cell_type": "code",
   "execution_count": 2,
   "metadata": {},
   "outputs": [
    {
     "name": "stdout",
     "output_type": "stream",
     "text": [
      "READING DATASET\n",
      "PREPARING DATASET\n",
      "\t cleaned null values...\n",
      "\t extracted datetime variables...\n",
      "\t cleaned outliers...\n",
      "\t generated features...\n",
      "Dataset size: (4860958, 18)\n",
      "Elapsed time: 68.76608276367188\n"
     ]
    }
   ],
   "source": [
    "data_ = Dataset()\n",
    "dataset = data_.prepare()"
   ]
  },
  {
   "cell_type": "code",
   "execution_count": 3,
   "metadata": {},
   "outputs": [
    {
     "data": {
      "text/html": [
       "<div>\n",
       "<style scoped>\n",
       "    .dataframe tbody tr th:only-of-type {\n",
       "        vertical-align: middle;\n",
       "    }\n",
       "\n",
       "    .dataframe tbody tr th {\n",
       "        vertical-align: top;\n",
       "    }\n",
       "\n",
       "    .dataframe thead th {\n",
       "        text-align: right;\n",
       "    }\n",
       "</style>\n",
       "<table border=\"1\" class=\"dataframe\">\n",
       "  <thead>\n",
       "    <tr style=\"text-align: right;\">\n",
       "      <th></th>\n",
       "      <th>key</th>\n",
       "      <th>fare_amount</th>\n",
       "      <th>pickup_datetime</th>\n",
       "      <th>pickup_longitude</th>\n",
       "      <th>pickup_latitude</th>\n",
       "      <th>dropoff_longitude</th>\n",
       "      <th>dropoff_latitude</th>\n",
       "      <th>passenger_count</th>\n",
       "      <th>year</th>\n",
       "      <th>month</th>\n",
       "      <th>month_name</th>\n",
       "      <th>month_year</th>\n",
       "      <th>week_day</th>\n",
       "      <th>day</th>\n",
       "      <th>hour</th>\n",
       "      <th>log_fare_amount</th>\n",
       "      <th>trip_distance_km</th>\n",
       "      <th>log_trip_distance</th>\n",
       "    </tr>\n",
       "  </thead>\n",
       "  <tbody>\n",
       "    <tr>\n",
       "      <th>0</th>\n",
       "      <td>2015-06-30 23:59:03.0000004</td>\n",
       "      <td>11.0</td>\n",
       "      <td>2015-06-30 23:59:03</td>\n",
       "      <td>-73.969475</td>\n",
       "      <td>40.750282</td>\n",
       "      <td>-73.993965</td>\n",
       "      <td>40.751568</td>\n",
       "      <td>1</td>\n",
       "      <td>2015</td>\n",
       "      <td>6</td>\n",
       "      <td>Jun</td>\n",
       "      <td>2015 - Jun</td>\n",
       "      <td>Tuesday</td>\n",
       "      <td>30</td>\n",
       "      <td>23</td>\n",
       "      <td>2.397895</td>\n",
       "      <td>2.068571</td>\n",
       "      <td>0.726858</td>\n",
       "    </tr>\n",
       "    <tr>\n",
       "      <th>1</th>\n",
       "      <td>2015-06-30 23:56:50.0000001</td>\n",
       "      <td>14.5</td>\n",
       "      <td>2015-06-30 23:56:50</td>\n",
       "      <td>-73.992104</td>\n",
       "      <td>40.734531</td>\n",
       "      <td>-73.960335</td>\n",
       "      <td>40.775703</td>\n",
       "      <td>1</td>\n",
       "      <td>2015</td>\n",
       "      <td>6</td>\n",
       "      <td>Jun</td>\n",
       "      <td>2015 - Jun</td>\n",
       "      <td>Tuesday</td>\n",
       "      <td>30</td>\n",
       "      <td>23</td>\n",
       "      <td>2.674149</td>\n",
       "      <td>5.304466</td>\n",
       "      <td>1.668549</td>\n",
       "    </tr>\n",
       "    <tr>\n",
       "      <th>2</th>\n",
       "      <td>2015-06-30 23:56:00.0000001</td>\n",
       "      <td>20.0</td>\n",
       "      <td>2015-06-30 23:56:00</td>\n",
       "      <td>-73.970154</td>\n",
       "      <td>40.757011</td>\n",
       "      <td>-73.962608</td>\n",
       "      <td>40.708641</td>\n",
       "      <td>1</td>\n",
       "      <td>2015</td>\n",
       "      <td>6</td>\n",
       "      <td>Jun</td>\n",
       "      <td>2015 - Jun</td>\n",
       "      <td>Tuesday</td>\n",
       "      <td>30</td>\n",
       "      <td>23</td>\n",
       "      <td>2.995732</td>\n",
       "      <td>5.417685</td>\n",
       "      <td>1.689669</td>\n",
       "    </tr>\n",
       "    <tr>\n",
       "      <th>3</th>\n",
       "      <td>2015-06-30 23:55:51.0000007</td>\n",
       "      <td>6.5</td>\n",
       "      <td>2015-06-30 23:55:51</td>\n",
       "      <td>-74.010147</td>\n",
       "      <td>40.720520</td>\n",
       "      <td>-74.000557</td>\n",
       "      <td>40.727139</td>\n",
       "      <td>1</td>\n",
       "      <td>2015</td>\n",
       "      <td>6</td>\n",
       "      <td>Jun</td>\n",
       "      <td>2015 - Jun</td>\n",
       "      <td>Tuesday</td>\n",
       "      <td>30</td>\n",
       "      <td>23</td>\n",
       "      <td>1.871802</td>\n",
       "      <td>1.093388</td>\n",
       "      <td>0.089281</td>\n",
       "    </tr>\n",
       "    <tr>\n",
       "      <th>4</th>\n",
       "      <td>2015-06-30 23:53:49.0000003</td>\n",
       "      <td>7.5</td>\n",
       "      <td>2015-06-30 23:53:49</td>\n",
       "      <td>-73.959969</td>\n",
       "      <td>40.762405</td>\n",
       "      <td>-73.953064</td>\n",
       "      <td>40.782688</td>\n",
       "      <td>1</td>\n",
       "      <td>2015</td>\n",
       "      <td>6</td>\n",
       "      <td>Jun</td>\n",
       "      <td>2015 - Jun</td>\n",
       "      <td>Tuesday</td>\n",
       "      <td>30</td>\n",
       "      <td>23</td>\n",
       "      <td>2.014903</td>\n",
       "      <td>2.329810</td>\n",
       "      <td>0.845787</td>\n",
       "    </tr>\n",
       "  </tbody>\n",
       "</table>\n",
       "</div>"
      ],
      "text/plain": [
       "                           key  fare_amount     pickup_datetime  \\\n",
       "0  2015-06-30 23:59:03.0000004         11.0 2015-06-30 23:59:03   \n",
       "1  2015-06-30 23:56:50.0000001         14.5 2015-06-30 23:56:50   \n",
       "2  2015-06-30 23:56:00.0000001         20.0 2015-06-30 23:56:00   \n",
       "3  2015-06-30 23:55:51.0000007          6.5 2015-06-30 23:55:51   \n",
       "4  2015-06-30 23:53:49.0000003          7.5 2015-06-30 23:53:49   \n",
       "\n",
       "   pickup_longitude  pickup_latitude  dropoff_longitude  dropoff_latitude  \\\n",
       "0        -73.969475        40.750282         -73.993965         40.751568   \n",
       "1        -73.992104        40.734531         -73.960335         40.775703   \n",
       "2        -73.970154        40.757011         -73.962608         40.708641   \n",
       "3        -74.010147        40.720520         -74.000557         40.727139   \n",
       "4        -73.959969        40.762405         -73.953064         40.782688   \n",
       "\n",
       "   passenger_count  year  month month_name  month_year week_day  day  hour  \\\n",
       "0                1  2015      6        Jun  2015 - Jun  Tuesday   30    23   \n",
       "1                1  2015      6        Jun  2015 - Jun  Tuesday   30    23   \n",
       "2                1  2015      6        Jun  2015 - Jun  Tuesday   30    23   \n",
       "3                1  2015      6        Jun  2015 - Jun  Tuesday   30    23   \n",
       "4                1  2015      6        Jun  2015 - Jun  Tuesday   30    23   \n",
       "\n",
       "   log_fare_amount  trip_distance_km  log_trip_distance  \n",
       "0         2.397895          2.068571           0.726858  \n",
       "1         2.674149          5.304466           1.668549  \n",
       "2         2.995732          5.417685           1.689669  \n",
       "3         1.871802          1.093388           0.089281  \n",
       "4         2.014903          2.329810           0.845787  "
      ]
     },
     "execution_count": 3,
     "metadata": {},
     "output_type": "execute_result"
    }
   ],
   "source": [
    "dataset.head()"
   ]
  },
  {
   "cell_type": "code",
   "execution_count": 24,
   "metadata": {},
   "outputs": [
    {
     "name": "stdout",
     "output_type": "stream",
     "text": [
      "p = 0\n",
      "The null hypothesis can be rejected\n"
     ]
    },
    {
     "data": {
      "image/png": "[encoded data removed]",
      "text/plain": [
       "<Figure size 432x288 with 1 Axes>"
      ]
     },
     "metadata": {
      "needs_background": "light"
     },
     "output_type": "display_data"
    }
   ],
   "source": [
    "#Hypothesis Testing\n",
    "#H0 = The fare amount is a Gaussian distribution.\n",
    "#H1 = The fare amount does not have a Gaussian distribution.\n",
    "\n",
    "fare_amount = dataset[\"fare_amount\"]\n",
    "stat, p = stats.normaltest(fare_amount)\n",
    "\n",
    "alpha = 1e-3\n",
    "print(\"p = {:g}\".format(p))\n",
    "if p < alpha:  # null hypothesis: x comes from a Gaussian Distribution distribution\n",
    "    print(\"The null hypothesis can be rejected\")\n",
    "else:\n",
    "    print(\"The null hypothesis cannot be rejected\")\n",
    "sns.distplot(dataset['fare_amount'],color = 'red')\n",
    "plt.axvline(dataset[\"fare_amount\"].mean(),linewidth  = 2 ,\n",
    "                linestyle = \"dashed\",color = \"k\" ,\n",
    "                label = \"Mean\")\n",
    "plt.xlim(right = 100)\n",
    "plt.legend(loc = \"best\")\n",
    "plt.title(\"fare\",color = \"b\")\n",
    "plt.xlabel(\"\")\n",
    "plt.savefig(\"Fair_amount.png\")\n",
    "\n",
    "#The null hypothesis: The distribution is Gaussian is rejected;\n",
    "#As we can see that the distribution is not a Gaussian by plotting it\n",
    "    "
   ]
  },
  {
   "cell_type": "code",
   "execution_count": 25,
   "metadata": {},
   "outputs": [
    {
     "data": {
      "image/png": "[encoded data removed]",
      "text/plain": [
       "<Figure size 864x504 with 1 Axes>"
      ]
     },
     "metadata": {
      "needs_background": "light"
     },
     "output_type": "display_data"
    }
   ],
   "source": [
    "day_count = dataset[\"week_day\"].value_counts().reset_index()\n",
    "day_count.columns = [\"week_day\",\"number_of_trips\"]\n",
    "day_count[\"order\"]  = day_count[\"week_day\"].replace({\"Sunday\" :1,'Monday' : 2, 'Tuesday': 3,\n",
    "                                                    'Wednesday':4,'Thursday' :5, 'Friday':6,\n",
    "                                                    'Saturday':7})\n",
    "day_count = day_count.sort_values(by = \"order\",ascending  = True)\n",
    "\n",
    "plt.figure(figsize = (12,7))\n",
    "sns.barplot(\"week_day\",\"number_of_trips\",\n",
    "             data = day_count,order = day_count['week_day'],\n",
    "             linewidth =1,edgecolor = \"k\"*len(day_count['order'])\n",
    "            )\n",
    "plt.grid(True)\n",
    "plt.title(\"Total number of trips per week day from 2009 -> 2014\")\n",
    "plt.savefig(\"Total_trips.png\")\n",
    "plt.show()\n",
    "\n",
    "\n",
    "# The plot suggests that people tend to go outand use taxi more on toward \n",
    "# the weekend starting from Friday(highest number) and ended on Sunday\n",
    "# Monday has the lowest number of trips and Friday has the highest\n"
   ]
  },
  {
   "cell_type": "code",
   "execution_count": 14,
   "metadata": {},
   "outputs": [
    {
     "data": {
      "application/vnd.plotly.v1+json": {
       "config": {
        "linkText": "Export to plot.ly",
        "plotlyServerURL": "https://plot.ly",
        "showLink": true
       },
       "data": [
        {
         "marker": {
          "color": "red",
          "line": {
           "color": "black",
           "width": 2
          },
          "size": 10
         },
         "mode": "markers",
         "type": "scatter",
         "uid": "258d37de-5c99-43ab-b9d3-d3f00068e1bc",
         "x": [
          0,
          1,
          2,
          3,
          4,
          5,
          6,
          7,
          8,
          9,
          10,
          11,
          12,
          13,
          14,
          15,
          16,
          17,
          18,
          19,
          20,
          21,
          22,
          23
         ],
         "y": [
          11.456880706692004,
          11.176937444747196,
          11.13425650874123,
          11.529283553266781,
          13.08554661719819,
          14.597196998681401,
          11.91330925994287,
          10.798701430386743,
          10.742309569075067,
          10.754380951541854,
          10.752203656611718,
          10.94892424162242,
          10.988387436877199,
          11.331146563079722,
          11.634074512869717,
          11.732834119075362,
          11.659103011220632,
          11.337604530450742,
          10.763596672888456,
          10.425187184209877,
          10.605794976595028,
          10.858037596987478,
          11.161207637989454,
          11.420065541475697
         ]
        }
       ],
       "layout": {
        "paper_bgcolor": "rgb(243,243,243)",
        "plot_bgcolor": "rgb(243,243,243)",
        "title": "Average fare by hour",
        "xaxis": {
         "gridcolor": "rgb(255, 255, 255)",
         "gridwidth": 2,
         "ticklen": 5,
         "title": "hour",
         "zerolinewidth": 1
        },
        "yaxis": {
         "gridcolor": "rgb(255, 255, 255)",
         "gridwidth": 2,
         "ticklen": 5,
         "title": "average_fare",
         "zerolinewidth": 1
        }
       }
      },
      "text/html": [
       "<div id=\"816989e9-4bed-4fbe-a10d-939ce37126c5\" style=\"height: 525px; width: 100%;\" class=\"plotly-graph-div\"></div><script type=\"text/javascript\">require([\"plotly\"], function(Plotly) { window.PLOTLYENV=window.PLOTLYENV || {};window.PLOTLYENV.BASE_URL=\"https://plot.ly\";Plotly.newPlot(\"816989e9-4bed-4fbe-a10d-939ce37126c5\", [{\"marker\": {\"color\": \"red\", \"line\": {\"color\": \"black\", \"width\": 2}, \"size\": 10}, \"mode\": \"markers\", \"x\": [0, 1, 2, 3, 4, 5, 6, 7, 8, 9, 10, 11, 12, 13, 14, 15, 16, 17, 18, 19, 20, 21, 22, 23], \"y\": [11.456880706692004, 11.176937444747196, 11.13425650874123, 11.529283553266781, 13.08554661719819, 14.597196998681401, 11.91330925994287, 10.798701430386743, 10.742309569075067, 10.754380951541854, 10.752203656611718, 10.94892424162242, 10.988387436877199, 11.331146563079722, 11.634074512869717, 11.732834119075362, 11.659103011220632, 11.337604530450742, 10.763596672888456, 10.425187184209877, 10.605794976595028, 10.858037596987478, 11.161207637989454, 11.420065541475697], \"type\": \"scatter\", \"uid\": \"258d37de-5c99-43ab-b9d3-d3f00068e1bc\"}], {\"paper_bgcolor\": \"rgb(243,243,243)\", \"plot_bgcolor\": \"rgb(243,243,243)\", \"title\": \"Average fare by hour\", \"xaxis\": {\"gridcolor\": \"rgb(255, 255, 255)\", \"gridwidth\": 2, \"ticklen\": 5, \"title\": \"hour\", \"zerolinewidth\": 1}, \"yaxis\": {\"gridcolor\": \"rgb(255, 255, 255)\", \"gridwidth\": 2, \"ticklen\": 5, \"title\": \"average_fare\", \"zerolinewidth\": 1}}, {\"showLink\": true, \"linkText\": \"Export to plot.ly\", \"plotlyServerURL\": \"https://plot.ly\"})});</script><script type=\"text/javascript\">window.addEventListener(\"resize\", function(){window._Plotly.Plots.resize(document.getElementById(\"816989e9-4bed-4fbe-a10d-939ce37126c5\"));});</script>"
      ],
      "text/vnd.plotly.v1+html": [
       "<div id=\"816989e9-4bed-4fbe-a10d-939ce37126c5\" style=\"height: 525px; width: 100%;\" class=\"plotly-graph-div\"></div><script type=\"text/javascript\">require([\"plotly\"], function(Plotly) { window.PLOTLYENV=window.PLOTLYENV || {};window.PLOTLYENV.BASE_URL=\"https://plot.ly\";Plotly.newPlot(\"816989e9-4bed-4fbe-a10d-939ce37126c5\", [{\"marker\": {\"color\": \"red\", \"line\": {\"color\": \"black\", \"width\": 2}, \"size\": 10}, \"mode\": \"markers\", \"x\": [0, 1, 2, 3, 4, 5, 6, 7, 8, 9, 10, 11, 12, 13, 14, 15, 16, 17, 18, 19, 20, 21, 22, 23], \"y\": [11.456880706692004, 11.176937444747196, 11.13425650874123, 11.529283553266781, 13.08554661719819, 14.597196998681401, 11.91330925994287, 10.798701430386743, 10.742309569075067, 10.754380951541854, 10.752203656611718, 10.94892424162242, 10.988387436877199, 11.331146563079722, 11.634074512869717, 11.732834119075362, 11.659103011220632, 11.337604530450742, 10.763596672888456, 10.425187184209877, 10.605794976595028, 10.858037596987478, 11.161207637989454, 11.420065541475697], \"type\": \"scatter\", \"uid\": \"258d37de-5c99-43ab-b9d3-d3f00068e1bc\"}], {\"paper_bgcolor\": \"rgb(243,243,243)\", \"plot_bgcolor\": \"rgb(243,243,243)\", \"title\": \"Average fare by hour\", \"xaxis\": {\"gridcolor\": \"rgb(255, 255, 255)\", \"gridwidth\": 2, \"ticklen\": 5, \"title\": \"hour\", \"zerolinewidth\": 1}, \"yaxis\": {\"gridcolor\": \"rgb(255, 255, 255)\", \"gridwidth\": 2, \"ticklen\": 5, \"title\": \"average_fare\", \"zerolinewidth\": 1}}, {\"showLink\": true, \"linkText\": \"Export to plot.ly\", \"plotlyServerURL\": \"https://plot.ly\"})});</script><script type=\"text/javascript\">window.addEventListener(\"resize\", function(){window._Plotly.Plots.resize(document.getElementById(\"816989e9-4bed-4fbe-a10d-939ce37126c5\"));});</script>"
      ]
     },
     "metadata": {},
     "output_type": "display_data"
    }
   ],
   "source": [
    "avg_fare_hr = dataset.groupby(\"hour\")[\"fare_amount\"].mean().reset_index()\n",
    "avg_fare_hr\n",
    "trace = go.Scatter(x = avg_fare_hr[\"hour\"],y = avg_fare_hr[\"fare_amount\"],\n",
    "                   mode = \"markers\",\n",
    "                  marker = dict(color = \"red\",size = 10,\n",
    "                                line = dict(color = \"black\",width =2)))\n",
    "\n",
    "#layout\n",
    "layout = go.Layout(dict(title = \"Average fare by hour\",\n",
    "                        plot_bgcolor  = \"rgb(243,243,243)\",\n",
    "                        paper_bgcolor = \"rgb(243,243,243)\",\n",
    "                        xaxis = dict(gridcolor = 'rgb(255, 255, 255)',title = \"hour\",\n",
    "                                     zerolinewidth=1, ticklen=5,gridwidth=2),\n",
    "                        yaxis = dict(gridcolor = 'rgb(255, 255, 255)',title = \"average_fare\",\n",
    "                                     zerolinewidth=1, ticklen=5,gridwidth=2),\n",
    "                       )\n",
    "                  )\n",
    "\n",
    "fig = go.Figure(data = [trace],layout = layout)\n",
    "py.iplot(fig)\n",
    "pio.write_image(fig, \"Average_fare.png\")\n",
    "#Another interesting information that we extracted from the data visualization is that people in New York use Taxi the\n",
    "#most in the early morning. The information suggest that people in New York tend to wake up early and use taxi \n",
    "#to go to work. "
   ]
  },
  {
   "cell_type": "code",
   "execution_count": 8,
   "metadata": {},
   "outputs": [],
   "source": [
    "\n",
    "trip_count = dataset.groupby([\"year\",\"month\",\n",
    "                               \"month_name\"])[\"month_year\"].value_counts().to_frame()\n",
    "trip_count.columns = [\"count\"]\n",
    "trip_count = trip_count.reset_index()\n",
    "\n",
    "passenger_count = (dataset.groupby([\"year\",\"month\",\"month_name\",\n",
    "                                     \"month_year\"])[\"passenger_count\"].sum().reset_index())\n",
    "\n",
    "total_fare = (dataset.groupby([\"year\",\"month\",\"month_name\",\n",
    "                                     \"month_year\"])[\"fare_amount\"].sum().reset_index())\n",
    "\n",
    "total_trip_dist = (dataset.groupby([\"year\",\"month\",\"month_name\",\n",
    "                                     \"month_year\"])[\"trip_distance_km\"].sum().reset_index())"
   ]
  },
  {
   "cell_type": "code",
   "execution_count": 13,
   "metadata": {},
   "outputs": [
    {
     "data": {
      "application/vnd.plotly.v1+json": {
       "config": {
        "linkText": "Export to plot.ly",
        "plotlyServerURL": "https://plot.ly",
        "showLink": true
       },
       "data": [
        {
         "colorbar": {
          "title": "correlation coefficient",
          "titleside": "right"
         },
         "colorscale": "Electric",
         "reversescale": false,
         "showscale": true,
         "type": "heatmap",
         "uid": "f40ae056-b54f-4527-9cfc-c0898f6ccb0d",
         "x": [
          "trips_count",
          "passenger_count",
          "fare_amount",
          "trip_distance_km"
         ],
         "y": [
          "trips_count",
          "passenger_count",
          "fare_amount",
          "trip_distance_km"
         ],
         "z": [
          [
           1,
           0.9738,
           0.323,
           0.8643
          ],
          [
           0.9738,
           1,
           0.4267,
           0.8765
          ],
          [
           0.323,
           0.4267,
           1,
           0.6529
          ],
          [
           0.8643,
           0.8765,
           0.6529,
           1
          ]
         ]
        }
       ],
       "layout": {
        "annotations": [
         {
          "font": {
           "color": "#000000"
          },
          "showarrow": false,
          "text": "1.0",
          "x": "trips_count",
          "xref": "x",
          "y": "trips_count",
          "yref": "y"
         },
         {
          "font": {
           "color": "#000000"
          },
          "showarrow": false,
          "text": "0.9738",
          "x": "passenger_count",
          "xref": "x",
          "y": "trips_count",
          "yref": "y"
         },
         {
          "font": {
           "color": "#FFFFFF"
          },
          "showarrow": false,
          "text": "0.323",
          "x": "fare_amount",
          "xref": "x",
          "y": "trips_count",
          "yref": "y"
         },
         {
          "font": {
           "color": "#000000"
          },
          "showarrow": false,
          "text": "0.8643",
          "x": "trip_distance_km",
          "xref": "x",
          "y": "trips_count",
          "yref": "y"
         },
         {
          "font": {
           "color": "#000000"
          },
          "showarrow": false,
          "text": "0.9738",
          "x": "trips_count",
          "xref": "x",
          "y": "passenger_count",
          "yref": "y"
         },
         {
          "font": {
           "color": "#000000"
          },
          "showarrow": false,
          "text": "1.0",
          "x": "passenger_count",
          "xref": "x",
          "y": "passenger_count",
          "yref": "y"
         },
         {
          "font": {
           "color": "#FFFFFF"
          },
          "showarrow": false,
          "text": "0.4267",
          "x": "fare_amount",
          "xref": "x",
          "y": "passenger_count",
          "yref": "y"
         },
         {
          "font": {
           "color": "#000000"
          },
          "showarrow": false,
          "text": "0.8765",
          "x": "trip_distance_km",
          "xref": "x",
          "y": "passenger_count",
          "yref": "y"
         },
         {
          "font": {
           "color": "#FFFFFF"
          },
          "showarrow": false,
          "text": "0.323",
          "x": "trips_count",
          "xref": "x",
          "y": "fare_amount",
          "yref": "y"
         },
         {
          "font": {
           "color": "#FFFFFF"
          },
          "showarrow": false,
          "text": "0.4267",
          "x": "passenger_count",
          "xref": "x",
          "y": "fare_amount",
          "yref": "y"
         },
         {
          "font": {
           "color": "#000000"
          },
          "showarrow": false,
          "text": "1.0",
          "x": "fare_amount",
          "xref": "x",
          "y": "fare_amount",
          "yref": "y"
         },
         {
          "font": {
           "color": "#FFFFFF"
          },
          "showarrow": false,
          "text": "0.6529",
          "x": "trip_distance_km",
          "xref": "x",
          "y": "fare_amount",
          "yref": "y"
         },
         {
          "font": {
           "color": "#000000"
          },
          "showarrow": false,
          "text": "0.8643",
          "x": "trips_count",
          "xref": "x",
          "y": "trip_distance_km",
          "yref": "y"
         },
         {
          "font": {
           "color": "#000000"
          },
          "showarrow": false,
          "text": "0.8765",
          "x": "passenger_count",
          "xref": "x",
          "y": "trip_distance_km",
          "yref": "y"
         },
         {
          "font": {
           "color": "#FFFFFF"
          },
          "showarrow": false,
          "text": "0.6529",
          "x": "fare_amount",
          "xref": "x",
          "y": "trip_distance_km",
          "yref": "y"
         },
         {
          "font": {
           "color": "#000000"
          },
          "showarrow": false,
          "text": "1.0",
          "x": "trip_distance_km",
          "xref": "x",
          "y": "trip_distance_km",
          "yref": "y"
         }
        ],
        "margin": {
         "l": 200,
         "r": 200
        },
        "title": "Correlation Matrix",
        "xaxis": {
         "dtick": 1,
         "gridcolor": "rgb(0, 0, 0)",
         "side": "top",
         "ticks": ""
        },
        "yaxis": {
         "dtick": 1,
         "ticks": "",
         "ticksuffix": "  "
        }
       }
      },
      "text/html": [
       "<div id=\"6a400142-bf50-4979-b53f-f5c4462ab491\" style=\"height: 525px; width: 100%;\" class=\"plotly-graph-div\"></div><script type=\"text/javascript\">require([\"plotly\"], function(Plotly) { window.PLOTLYENV=window.PLOTLYENV || {};window.PLOTLYENV.BASE_URL=\"https://plot.ly\";Plotly.newPlot(\"6a400142-bf50-4979-b53f-f5c4462ab491\", [{\"colorbar\": {\"title\": \"correlation coefficient\", \"titleside\": \"right\"}, \"colorscale\": \"Electric\", \"reversescale\": false, \"showscale\": true, \"x\": [\"trips_count\", \"passenger_count\", \"fare_amount\", \"trip_distance_km\"], \"y\": [\"trips_count\", \"passenger_count\", \"fare_amount\", \"trip_distance_km\"], \"z\": [[1.0, 0.9738, 0.323, 0.8643], [0.9738, 1.0, 0.4267, 0.8765], [0.323, 0.4267, 1.0, 0.6529], [0.8643, 0.8765, 0.6529, 1.0]], \"type\": \"heatmap\", \"uid\": \"f40ae056-b54f-4527-9cfc-c0898f6ccb0d\"}], {\"annotations\": [{\"font\": {\"color\": \"#000000\"}, \"showarrow\": false, \"text\": \"1.0\", \"x\": \"trips_count\", \"xref\": \"x\", \"y\": \"trips_count\", \"yref\": \"y\"}, {\"font\": {\"color\": \"#000000\"}, \"showarrow\": false, \"text\": \"0.9738\", \"x\": \"passenger_count\", \"xref\": \"x\", \"y\": \"trips_count\", \"yref\": \"y\"}, {\"font\": {\"color\": \"#FFFFFF\"}, \"showarrow\": false, \"text\": \"0.323\", \"x\": \"fare_amount\", \"xref\": \"x\", \"y\": \"trips_count\", \"yref\": \"y\"}, {\"font\": {\"color\": \"#000000\"}, \"showarrow\": false, \"text\": \"0.8643\", \"x\": \"trip_distance_km\", \"xref\": \"x\", \"y\": \"trips_count\", \"yref\": \"y\"}, {\"font\": {\"color\": \"#000000\"}, \"showarrow\": false, \"text\": \"0.9738\", \"x\": \"trips_count\", \"xref\": \"x\", \"y\": \"passenger_count\", \"yref\": \"y\"}, {\"font\": {\"color\": \"#000000\"}, \"showarrow\": false, \"text\": \"1.0\", \"x\": \"passenger_count\", \"xref\": \"x\", \"y\": \"passenger_count\", \"yref\": \"y\"}, {\"font\": {\"color\": \"#FFFFFF\"}, \"showarrow\": false, \"text\": \"0.4267\", \"x\": \"fare_amount\", \"xref\": \"x\", \"y\": \"passenger_count\", \"yref\": \"y\"}, {\"font\": {\"color\": \"#000000\"}, \"showarrow\": false, \"text\": \"0.8765\", \"x\": \"trip_distance_km\", \"xref\": \"x\", \"y\": \"passenger_count\", \"yref\": \"y\"}, {\"font\": {\"color\": \"#FFFFFF\"}, \"showarrow\": false, \"text\": \"0.323\", \"x\": \"trips_count\", \"xref\": \"x\", \"y\": \"fare_amount\", \"yref\": \"y\"}, {\"font\": {\"color\": \"#FFFFFF\"}, \"showarrow\": false, \"text\": \"0.4267\", \"x\": \"passenger_count\", \"xref\": \"x\", \"y\": \"fare_amount\", \"yref\": \"y\"}, {\"font\": {\"color\": \"#000000\"}, \"showarrow\": false, \"text\": \"1.0\", \"x\": \"fare_amount\", \"xref\": \"x\", \"y\": \"fare_amount\", \"yref\": \"y\"}, {\"font\": {\"color\": \"#FFFFFF\"}, \"showarrow\": false, \"text\": \"0.6529\", \"x\": \"trip_distance_km\", \"xref\": \"x\", \"y\": \"fare_amount\", \"yref\": \"y\"}, {\"font\": {\"color\": \"#000000\"}, \"showarrow\": false, \"text\": \"0.8643\", \"x\": \"trips_count\", \"xref\": \"x\", \"y\": \"trip_distance_km\", \"yref\": \"y\"}, {\"font\": {\"color\": \"#000000\"}, \"showarrow\": false, \"text\": \"0.8765\", \"x\": \"passenger_count\", \"xref\": \"x\", \"y\": \"trip_distance_km\", \"yref\": \"y\"}, {\"font\": {\"color\": \"#FFFFFF\"}, \"showarrow\": false, \"text\": \"0.6529\", \"x\": \"fare_amount\", \"xref\": \"x\", \"y\": \"trip_distance_km\", \"yref\": \"y\"}, {\"font\": {\"color\": \"#000000\"}, \"showarrow\": false, \"text\": \"1.0\", \"x\": \"trip_distance_km\", \"xref\": \"x\", \"y\": \"trip_distance_km\", \"yref\": \"y\"}], \"xaxis\": {\"dtick\": 1, \"gridcolor\": \"rgb(0, 0, 0)\", \"side\": \"top\", \"ticks\": \"\"}, \"yaxis\": {\"dtick\": 1, \"ticks\": \"\", \"ticksuffix\": \"  \"}, \"title\": \"Correlation Matrix\", \"margin\": {\"l\": 200, \"r\": 200}}, {\"showLink\": true, \"linkText\": \"Export to plot.ly\", \"plotlyServerURL\": \"https://plot.ly\"})});</script><script type=\"text/javascript\">window.addEventListener(\"resize\", function(){window._Plotly.Plots.resize(document.getElementById(\"6a400142-bf50-4979-b53f-f5c4462ab491\"));});</script>"
      ],
      "text/vnd.plotly.v1+html": [
       "<div id=\"6a400142-bf50-4979-b53f-f5c4462ab491\" style=\"height: 525px; width: 100%;\" class=\"plotly-graph-div\"></div><script type=\"text/javascript\">require([\"plotly\"], function(Plotly) { window.PLOTLYENV=window.PLOTLYENV || {};window.PLOTLYENV.BASE_URL=\"https://plot.ly\";Plotly.newPlot(\"6a400142-bf50-4979-b53f-f5c4462ab491\", [{\"colorbar\": {\"title\": \"correlation coefficient\", \"titleside\": \"right\"}, \"colorscale\": \"Electric\", \"reversescale\": false, \"showscale\": true, \"x\": [\"trips_count\", \"passenger_count\", \"fare_amount\", \"trip_distance_km\"], \"y\": [\"trips_count\", \"passenger_count\", \"fare_amount\", \"trip_distance_km\"], \"z\": [[1.0, 0.9738, 0.323, 0.8643], [0.9738, 1.0, 0.4267, 0.8765], [0.323, 0.4267, 1.0, 0.6529], [0.8643, 0.8765, 0.6529, 1.0]], \"type\": \"heatmap\", \"uid\": \"f40ae056-b54f-4527-9cfc-c0898f6ccb0d\"}], {\"annotations\": [{\"font\": {\"color\": \"#000000\"}, \"showarrow\": false, \"text\": \"1.0\", \"x\": \"trips_count\", \"xref\": \"x\", \"y\": \"trips_count\", \"yref\": \"y\"}, {\"font\": {\"color\": \"#000000\"}, \"showarrow\": false, \"text\": \"0.9738\", \"x\": \"passenger_count\", \"xref\": \"x\", \"y\": \"trips_count\", \"yref\": \"y\"}, {\"font\": {\"color\": \"#FFFFFF\"}, \"showarrow\": false, \"text\": \"0.323\", \"x\": \"fare_amount\", \"xref\": \"x\", \"y\": \"trips_count\", \"yref\": \"y\"}, {\"font\": {\"color\": \"#000000\"}, \"showarrow\": false, \"text\": \"0.8643\", \"x\": \"trip_distance_km\", \"xref\": \"x\", \"y\": \"trips_count\", \"yref\": \"y\"}, {\"font\": {\"color\": \"#000000\"}, \"showarrow\": false, \"text\": \"0.9738\", \"x\": \"trips_count\", \"xref\": \"x\", \"y\": \"passenger_count\", \"yref\": \"y\"}, {\"font\": {\"color\": \"#000000\"}, \"showarrow\": false, \"text\": \"1.0\", \"x\": \"passenger_count\", \"xref\": \"x\", \"y\": \"passenger_count\", \"yref\": \"y\"}, {\"font\": {\"color\": \"#FFFFFF\"}, \"showarrow\": false, \"text\": \"0.4267\", \"x\": \"fare_amount\", \"xref\": \"x\", \"y\": \"passenger_count\", \"yref\": \"y\"}, {\"font\": {\"color\": \"#000000\"}, \"showarrow\": false, \"text\": \"0.8765\", \"x\": \"trip_distance_km\", \"xref\": \"x\", \"y\": \"passenger_count\", \"yref\": \"y\"}, {\"font\": {\"color\": \"#FFFFFF\"}, \"showarrow\": false, \"text\": \"0.323\", \"x\": \"trips_count\", \"xref\": \"x\", \"y\": \"fare_amount\", \"yref\": \"y\"}, {\"font\": {\"color\": \"#FFFFFF\"}, \"showarrow\": false, \"text\": \"0.4267\", \"x\": \"passenger_count\", \"xref\": \"x\", \"y\": \"fare_amount\", \"yref\": \"y\"}, {\"font\": {\"color\": \"#000000\"}, \"showarrow\": false, \"text\": \"1.0\", \"x\": \"fare_amount\", \"xref\": \"x\", \"y\": \"fare_amount\", \"yref\": \"y\"}, {\"font\": {\"color\": \"#FFFFFF\"}, \"showarrow\": false, \"text\": \"0.6529\", \"x\": \"trip_distance_km\", \"xref\": \"x\", \"y\": \"fare_amount\", \"yref\": \"y\"}, {\"font\": {\"color\": \"#000000\"}, \"showarrow\": false, \"text\": \"0.8643\", \"x\": \"trips_count\", \"xref\": \"x\", \"y\": \"trip_distance_km\", \"yref\": \"y\"}, {\"font\": {\"color\": \"#000000\"}, \"showarrow\": false, \"text\": \"0.8765\", \"x\": \"passenger_count\", \"xref\": \"x\", \"y\": \"trip_distance_km\", \"yref\": \"y\"}, {\"font\": {\"color\": \"#FFFFFF\"}, \"showarrow\": false, \"text\": \"0.6529\", \"x\": \"fare_amount\", \"xref\": \"x\", \"y\": \"trip_distance_km\", \"yref\": \"y\"}, {\"font\": {\"color\": \"#000000\"}, \"showarrow\": false, \"text\": \"1.0\", \"x\": \"trip_distance_km\", \"xref\": \"x\", \"y\": \"trip_distance_km\", \"yref\": \"y\"}], \"xaxis\": {\"dtick\": 1, \"gridcolor\": \"rgb(0, 0, 0)\", \"side\": \"top\", \"ticks\": \"\"}, \"yaxis\": {\"dtick\": 1, \"ticks\": \"\", \"ticksuffix\": \"  \"}, \"title\": \"Correlation Matrix\", \"margin\": {\"l\": 200, \"r\": 200}}, {\"showLink\": true, \"linkText\": \"Export to plot.ly\", \"plotlyServerURL\": \"https://plot.ly\"})});</script><script type=\"text/javascript\">window.addEventListener(\"resize\", function(){window._Plotly.Plots.resize(document.getElementById(\"6a400142-bf50-4979-b53f-f5c4462ab491\"));});</script>"
      ]
     },
     "metadata": {},
     "output_type": "display_data"
    }
   ],
   "source": [
    "merge1  = trip_count.merge(passenger_count,left_on = \"month_year\",\n",
    "                           right_on = \"month_year\",how= \"left\")\n",
    "\n",
    "merge2  = total_fare.merge(total_trip_dist,left_on = \"month_year\",\n",
    "                           right_on = \"month_year\",how= \"left\")\n",
    "\n",
    "final_my_dat = merge1.merge(merge2,left_on = \"month_year\",\n",
    "                           right_on = \"month_year\",how= \"left\")\n",
    "\n",
    "final_my_dat = final_my_dat[[\"month_year\",\"count\",\"passenger_count\",\"fare_amount\",\n",
    "                             \"trip_distance_km\",\"month_x_x\",\"year_x_x\",\"month_name_x_x\"]]\n",
    "\n",
    "\n",
    "final_my_dat = final_my_dat.rename(columns = {\"month_x_x\":\"month\",\"year_x_x\":\"year\",\n",
    "                                   \"count\" : \"trips_count\",\"month_name_x_x\":\"month_name\"})\n",
    "corr  =  np.array(final_my_dat[['trips_count', 'passenger_count',\n",
    "                                'fare_amount', \"trip_distance_km\"]].corr())\n",
    "corr  =  np.around(corr,4)\n",
    "\n",
    "# #x & y ticks\n",
    "ticks =  ['trips_count', 'passenger_count', 'fare_amount', \"trip_distance_km\"]\n",
    "\n",
    "# #plot heatmap\n",
    "fig = ff.create_annotated_heatmap(z = corr,x = ticks,y = ticks,showscale=True,\n",
    "                                   #colorscale = \"Portland\",\n",
    "                                   colorscale='Electric',\n",
    "                                   colorbar   = dict(title = \"correlation coefficient\",\n",
    "                                                     titleside = \"right\"\n",
    "                                      ) \n",
    "                                  )\n",
    "fig.layout.title  = \"Correlation Matrix\"\n",
    "fig.layout.margin = dict(l = 200,r = 200)\n",
    "py.iplot(fig)\n",
    "if not os.path.exists('images'):\n",
    "    os.mkdir('images')\n",
    "pio.write_image(fig, \"Correlation.png\")\n",
    "\n",
    "#We can then evaluate the correlation between each feature and also each feature the fare amount. As you can see \n",
    "#in Figure 1, the fare amount is not really correlated with any feature as it's effect by a combination of different \n",
    "#features such as distance, passenger count, though the trip distance show a correlation of 0.6529 with the fare amount. Interestingly, the passenger count and fare amount is highly correlated (0.8765). That maybe because people tend to use taxi for a long trip when they share ride. \n",
    "#Passenger count and trips count share a similar behavior."
   ]
  },
  {
   "cell_type": "code",
   "execution_count": null,
   "metadata": {},
   "outputs": [],
   "source": []
  }
 ],
 "metadata": {
  "kernelspec": {
   "display_name": "Python 3",
   "language": "python",
   "name": "python3"
  },
  "language_info": {
   "codemirror_mode": {
    "name": "ipython",
    "version": 3
   },
   "file_extension": ".py",
   "mimetype": "text/x-python",
   "name": "python",
   "nbconvert_exporter": "python",
   "pygments_lexer": "ipython3",
   "version": "3.6.4"
  }
 },
 "nbformat": 4,
 "nbformat_minor": 1
}
