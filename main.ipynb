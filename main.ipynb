{
 "cells": [
  {
   "cell_type": "code",
   "execution_count": 14,
   "metadata": {},
   "outputs": [
    {
     "data": {
      "text/html": [
       "<script type=\"text/javascript\">window.PlotlyConfig = {MathJaxConfig: 'local'};</script><script type=\"text/javascript\">if (window.MathJax) {MathJax.Hub.Config({SVG: {font: \"STIX-Web\"}});}</script><script>requirejs.config({paths: { 'plotly': ['https://cdn.plot.ly/plotly-latest.min']},});if(!window._Plotly) {require(['plotly'],function(plotly) {window._Plotly=plotly;});}</script>"
      ]
     },
     "metadata": {},
     "output_type": "execute_result"
    }
   ],
   "source": [
    "from data.dataset import Dataset\n",
    "import warnings\n",
    "warnings.filterwarnings(\"ignore\")\n",
    "#import matplotlib.pyplot as plt #visualization%import seaborn as sns #visualization\n",
    "%matplotlib inline\n",
    "import seaborn as sns\n",
    "import itertools\n",
    "import plotly.offline as py#visualization\n",
    "py.init_notebook_mode(connected=True)#visualization\n",
    "import plotly.graph_objs as go#visualization\n",
    "import plotly.tools as tls#visualization\n",
    "import plotly.figure_factory as ff#visualization"
   ]
  },
  {
   "cell_type": "code",
   "execution_count": 2,
   "metadata": {},
   "outputs": [
    {
     "name": "stdout",
     "output_type": "stream",
     "text": [
      "READING DATASET\n",
      "PREPARING DATASET\n",
      "\t cleaned null values...\n",
      "\t extracted datetime variables...\n",
      "\t cleaned outliers...\n",
      "\t generated features...\n",
      "Dataset size: (4860958, 18)\n",
      "Elapsed time: 64.53929281234741\n"
     ]
    }
   ],
   "source": [
    "data_dir = ''\n",
    "data_ = Dataset()\n",
    "dataset = data_.prepare()"
   ]
  },
  {
   "cell_type": "code",
   "execution_count": 3,
   "metadata": {},
   "outputs": [
    {
     "data": {
      "text/html": [
       "<div>\n",
       "<style scoped>\n",
       "    .dataframe tbody tr th:only-of-type {\n",
       "        vertical-align: middle;\n",
       "    }\n",
       "\n",
       "    .dataframe tbody tr th {\n",
       "        vertical-align: top;\n",
       "    }\n",
       "\n",
       "    .dataframe thead th {\n",
       "        text-align: right;\n",
       "    }\n",
       "</style>\n",
       "<table border=\"1\" class=\"dataframe\">\n",
       "  <thead>\n",
       "    <tr style=\"text-align: right;\">\n",
       "      <th></th>\n",
       "      <th>key</th>\n",
       "      <th>fare_amount</th>\n",
       "      <th>pickup_datetime</th>\n",
       "      <th>pickup_longitude</th>\n",
       "      <th>pickup_latitude</th>\n",
       "      <th>dropoff_longitude</th>\n",
       "      <th>dropoff_latitude</th>\n",
       "      <th>passenger_count</th>\n",
       "      <th>year</th>\n",
       "      <th>month</th>\n",
       "      <th>month_name</th>\n",
       "      <th>month_year</th>\n",
       "      <th>week_day</th>\n",
       "      <th>day</th>\n",
       "      <th>hour</th>\n",
       "      <th>log_fare_amount</th>\n",
       "      <th>trip_distance_km</th>\n",
       "      <th>log_trip_distance</th>\n",
       "    </tr>\n",
       "  </thead>\n",
       "  <tbody>\n",
       "    <tr>\n",
       "      <th>0</th>\n",
       "      <td>2015-06-30 23:59:03.0000004</td>\n",
       "      <td>11.0</td>\n",
       "      <td>2015-06-30 23:59:03</td>\n",
       "      <td>-73.969475</td>\n",
       "      <td>40.750282</td>\n",
       "      <td>-73.993965</td>\n",
       "      <td>40.751568</td>\n",
       "      <td>1</td>\n",
       "      <td>2015</td>\n",
       "      <td>6</td>\n",
       "      <td>Jun</td>\n",
       "      <td>2015 - Jun</td>\n",
       "      <td>Tuesday</td>\n",
       "      <td>30</td>\n",
       "      <td>23</td>\n",
       "      <td>2.397895</td>\n",
       "      <td>2.068571</td>\n",
       "      <td>0.726858</td>\n",
       "    </tr>\n",
       "    <tr>\n",
       "      <th>1</th>\n",
       "      <td>2015-06-30 23:56:50.0000001</td>\n",
       "      <td>14.5</td>\n",
       "      <td>2015-06-30 23:56:50</td>\n",
       "      <td>-73.992104</td>\n",
       "      <td>40.734531</td>\n",
       "      <td>-73.960335</td>\n",
       "      <td>40.775703</td>\n",
       "      <td>1</td>\n",
       "      <td>2015</td>\n",
       "      <td>6</td>\n",
       "      <td>Jun</td>\n",
       "      <td>2015 - Jun</td>\n",
       "      <td>Tuesday</td>\n",
       "      <td>30</td>\n",
       "      <td>23</td>\n",
       "      <td>2.674149</td>\n",
       "      <td>5.304466</td>\n",
       "      <td>1.668549</td>\n",
       "    </tr>\n",
       "    <tr>\n",
       "      <th>2</th>\n",
       "      <td>2015-06-30 23:56:00.0000001</td>\n",
       "      <td>20.0</td>\n",
       "      <td>2015-06-30 23:56:00</td>\n",
       "      <td>-73.970154</td>\n",
       "      <td>40.757011</td>\n",
       "      <td>-73.962608</td>\n",
       "      <td>40.708641</td>\n",
       "      <td>1</td>\n",
       "      <td>2015</td>\n",
       "      <td>6</td>\n",
       "      <td>Jun</td>\n",
       "      <td>2015 - Jun</td>\n",
       "      <td>Tuesday</td>\n",
       "      <td>30</td>\n",
       "      <td>23</td>\n",
       "      <td>2.995732</td>\n",
       "      <td>5.417685</td>\n",
       "      <td>1.689669</td>\n",
       "    </tr>\n",
       "    <tr>\n",
       "      <th>3</th>\n",
       "      <td>2015-06-30 23:55:51.0000007</td>\n",
       "      <td>6.5</td>\n",
       "      <td>2015-06-30 23:55:51</td>\n",
       "      <td>-74.010147</td>\n",
       "      <td>40.720520</td>\n",
       "      <td>-74.000557</td>\n",
       "      <td>40.727139</td>\n",
       "      <td>1</td>\n",
       "      <td>2015</td>\n",
       "      <td>6</td>\n",
       "      <td>Jun</td>\n",
       "      <td>2015 - Jun</td>\n",
       "      <td>Tuesday</td>\n",
       "      <td>30</td>\n",
       "      <td>23</td>\n",
       "      <td>1.871802</td>\n",
       "      <td>1.093388</td>\n",
       "      <td>0.089281</td>\n",
       "    </tr>\n",
       "    <tr>\n",
       "      <th>4</th>\n",
       "      <td>2015-06-30 23:53:49.0000003</td>\n",
       "      <td>7.5</td>\n",
       "      <td>2015-06-30 23:53:49</td>\n",
       "      <td>-73.959969</td>\n",
       "      <td>40.762405</td>\n",
       "      <td>-73.953064</td>\n",
       "      <td>40.782688</td>\n",
       "      <td>1</td>\n",
       "      <td>2015</td>\n",
       "      <td>6</td>\n",
       "      <td>Jun</td>\n",
       "      <td>2015 - Jun</td>\n",
       "      <td>Tuesday</td>\n",
       "      <td>30</td>\n",
       "      <td>23</td>\n",
       "      <td>2.014903</td>\n",
       "      <td>2.329810</td>\n",
       "      <td>0.845787</td>\n",
       "    </tr>\n",
       "  </tbody>\n",
       "</table>\n",
       "</div>"
      ],
      "text/plain": [
       "                           key  fare_amount     pickup_datetime  \\\n",
       "0  2015-06-30 23:59:03.0000004         11.0 2015-06-30 23:59:03   \n",
       "1  2015-06-30 23:56:50.0000001         14.5 2015-06-30 23:56:50   \n",
       "2  2015-06-30 23:56:00.0000001         20.0 2015-06-30 23:56:00   \n",
       "3  2015-06-30 23:55:51.0000007          6.5 2015-06-30 23:55:51   \n",
       "4  2015-06-30 23:53:49.0000003          7.5 2015-06-30 23:53:49   \n",
       "\n",
       "   pickup_longitude  pickup_latitude  dropoff_longitude  dropoff_latitude  \\\n",
       "0        -73.969475        40.750282         -73.993965         40.751568   \n",
       "1        -73.992104        40.734531         -73.960335         40.775703   \n",
       "2        -73.970154        40.757011         -73.962608         40.708641   \n",
       "3        -74.010147        40.720520         -74.000557         40.727139   \n",
       "4        -73.959969        40.762405         -73.953064         40.782688   \n",
       "\n",
       "   passenger_count  year  month month_name  month_year week_day  day  hour  \\\n",
       "0                1  2015      6        Jun  2015 - Jun  Tuesday   30    23   \n",
       "1                1  2015      6        Jun  2015 - Jun  Tuesday   30    23   \n",
       "2                1  2015      6        Jun  2015 - Jun  Tuesday   30    23   \n",
       "3                1  2015      6        Jun  2015 - Jun  Tuesday   30    23   \n",
       "4                1  2015      6        Jun  2015 - Jun  Tuesday   30    23   \n",
       "\n",
       "   log_fare_amount  trip_distance_km  log_trip_distance  \n",
       "0         2.397895          2.068571           0.726858  \n",
       "1         2.674149          5.304466           1.668549  \n",
       "2         2.995732          5.417685           1.689669  \n",
       "3         1.871802          1.093388           0.089281  \n",
       "4         2.014903          2.329810           0.845787  "
      ]
     },
     "execution_count": 3,
     "metadata": {},
     "output_type": "execute_result"
    }
   ],
   "source": [
    "dataset.head()"
   ]
  },
  {
   "cell_type": "code",
   "execution_count": 41,
   "metadata": {},
   "outputs": [
    {
     "data": {
      "image/png": "[encoded data removed]",
      "text/plain": [
       "<Figure size 864x504 with 1 Axes>"
      ]
     },
     "metadata": {
      "needs_background": "light"
     },
     "output_type": "display_data"
    }
   ],
   "source": [
    "day_count = dataset[\"week_day\"].value_counts().reset_index()\n",
    "day_count.columns = [\"week_day\",\"number_of_trips\"]\n",
    "day_count[\"order\"]  = day_count[\"week_day\"].replace({\"Sunday\" :1,'Monday' : 2, 'Tuesday': 3,\n",
    "                                                    'Wednesday':4,'Thursday' :5, 'Friday':6,\n",
    "                                                    'Saturday':7})\n",
    "day_count = day_count.sort_values(by = \"order\",ascending  = True)\n",
    "\n",
    "plt.figure(figsize = (12,7))\n",
    "sns.barplot(\"week_day\",\"number_of_trips\",\n",
    "             data = day_count,order = day_count['week_day'],\n",
    "             linewidth =1,edgecolor = \"k\"*len(day_count['order'])\n",
    "            )\n",
    "plt.grid(True)\n",
    "plt.title(\"Total number of trips per week day from 2009 -> 2014\")\n",
    "plt.show()\n",
    "\n",
    "\n",
    "#Comment people tend to go out and use taxi more on toward the weekend\n"
   ]
  },
  {
   "cell_type": "code",
   "execution_count": 42,
   "metadata": {},
   "outputs": [
    {
     "data": {
      "text/html": [
       "<div id=\"4116aaf5-0db9-4dd2-814e-2c962245e5f8\" style=\"height: 525px; width: 100%;\" class=\"plotly-graph-div\"></div><script type=\"text/javascript\">require([\"plotly\"], function(Plotly) { window.PLOTLYENV=window.PLOTLYENV || {};window.PLOTLYENV.BASE_URL=\"https://plot.ly\";Plotly.newPlot(\"4116aaf5-0db9-4dd2-814e-2c962245e5f8\", [{\"marker\": {\"color\": \"blue\", \"line\": {\"color\": \"black\", \"width\": 2}, \"size\": 9}, \"mode\": \"markers+lines\", \"x\": [0, 1, 2, 3, 4, 5, 6, 7, 8, 9, 10, 11, 12, 13, 14, 15, 16, 17, 18, 19, 20, 21, 22, 23], \"y\": [11.456880706692004, 11.176937444747196, 11.13425650874123, 11.529283553266781, 13.08554661719819, 14.597196998681401, 11.91330925994287, 10.798701430386743, 10.742309569075067, 10.754380951541854, 10.752203656611718, 10.94892424162242, 10.988387436877199, 11.331146563079722, 11.634074512869717, 11.732834119075362, 11.659103011220632, 11.337604530450742, 10.763596672888456, 10.425187184209877, 10.605794976595028, 10.858037596987478, 11.161207637989454, 11.420065541475697], \"type\": \"scatter\", \"uid\": \"fdd318c6-8a7f-48c9-b99a-2e0023d729dc\"}], {\"paper_bgcolor\": \"rgb(243,243,243)\", \"plot_bgcolor\": \"rgb(243,243,243)\", \"title\": \"Average fare by hour\", \"xaxis\": {\"gridcolor\": \"rgb(255, 255, 255)\", \"gridwidth\": 2, \"ticklen\": 5, \"title\": \"hour\", \"zerolinewidth\": 1}, \"yaxis\": {\"gridcolor\": \"rgb(255, 255, 255)\", \"gridwidth\": 2, \"ticklen\": 5, \"title\": \"average_fare\", \"zerolinewidth\": 1}}, {\"showLink\": true, \"linkText\": \"Export to plot.ly\", \"plotlyServerURL\": \"https://plot.ly\"})});</script><script type=\"text/javascript\">window.addEventListener(\"resize\", function(){window._Plotly.Plots.resize(document.getElementById(\"4116aaf5-0db9-4dd2-814e-2c962245e5f8\"));});</script>"
      ]
     },
     "metadata": {},
     "output_type": "execute_result"
    }
   ],
   "source": [
    "avg_fare_hr = dataset.groupby(\"hour\")[\"fare_amount\"].mean().reset_index()\n",
    "avg_fare_hr\n",
    "trace = go.Scatter(x = avg_fare_hr[\"hour\"],y = avg_fare_hr[\"fare_amount\"],\n",
    "                   mode = \"markers+lines\",\n",
    "                  marker = dict(color = \"blue\",size = 9,\n",
    "                                line = dict(color = \"black\",width =2)))\n",
    "\n",
    "#layout\n",
    "layout = go.Layout(dict(title = \"Average fare by hour\",\n",
    "                        plot_bgcolor  = \"rgb(243,243,243)\",\n",
    "                        paper_bgcolor = \"rgb(243,243,243)\",\n",
    "                        xaxis = dict(gridcolor = 'rgb(255, 255, 255)',title = \"hour\",\n",
    "                                     zerolinewidth=1,ticklen=5,gridwidth=2),\n",
    "                        yaxis = dict(gridcolor = 'rgb(255, 255, 255)',title = \"average_fare\",\n",
    "                                     zerolinewidth=1,ticklen=5,gridwidth=2),\n",
    "                       )\n",
    "                  )\n",
    "\n",
    "fig = go.Figure(data = [trace],layout = layout)\n",
    "py.iplot(fig)\n"
   ]
  },
  {
   "cell_type": "code",
   "execution_count": 26,
   "metadata": {},
   "outputs": [
    {
     "data": {
      "text/plain": [
       "5    637109\n",
       "6    623511\n",
       "4    681286\n",
       "3    703601\n",
       "2    727948\n",
       "0    749731\n",
       "1    737772\n",
       "Name: count, dtype: int64"
      ]
     },
     "execution_count": 26,
     "metadata": {},
     "output_type": "execute_result"
    }
   ],
   "source": [
    "day_count['count']"
   ]
  },
  {
   "cell_type": "code",
   "execution_count": 30,
   "metadata": {},
   "outputs": [],
   "source": [
    "fare_wk = dataset.groupby(\"week_day\")[\"fare_amount\"].mean().reset_index()"
   ]
  },
  {
   "cell_type": "code",
   "execution_count": 31,
   "metadata": {},
   "outputs": [
    {
     "data": {
      "text/html": [
       "<div>\n",
       "<style scoped>\n",
       "    .dataframe tbody tr th:only-of-type {\n",
       "        vertical-align: middle;\n",
       "    }\n",
       "\n",
       "    .dataframe tbody tr th {\n",
       "        vertical-align: top;\n",
       "    }\n",
       "\n",
       "    .dataframe thead th {\n",
       "        text-align: right;\n",
       "    }\n",
       "</style>\n",
       "<table border=\"1\" class=\"dataframe\">\n",
       "  <thead>\n",
       "    <tr style=\"text-align: right;\">\n",
       "      <th></th>\n",
       "      <th>week_day</th>\n",
       "      <th>fare_amount</th>\n",
       "    </tr>\n",
       "  </thead>\n",
       "  <tbody>\n",
       "    <tr>\n",
       "      <th>0</th>\n",
       "      <td>Friday</td>\n",
       "      <td>11.210579</td>\n",
       "    </tr>\n",
       "    <tr>\n",
       "      <th>1</th>\n",
       "      <td>Monday</td>\n",
       "      <td>11.167380</td>\n",
       "    </tr>\n",
       "    <tr>\n",
       "      <th>2</th>\n",
       "      <td>Saturday</td>\n",
       "      <td>10.822599</td>\n",
       "    </tr>\n",
       "    <tr>\n",
       "      <th>3</th>\n",
       "      <td>Sunday</td>\n",
       "      <td>11.412175</td>\n",
       "    </tr>\n",
       "    <tr>\n",
       "      <th>4</th>\n",
       "      <td>Thursday</td>\n",
       "      <td>11.293469</td>\n",
       "    </tr>\n",
       "    <tr>\n",
       "      <th>5</th>\n",
       "      <td>Tuesday</td>\n",
       "      <td>11.003409</td>\n",
       "    </tr>\n",
       "    <tr>\n",
       "      <th>6</th>\n",
       "      <td>Wednesday</td>\n",
       "      <td>11.121971</td>\n",
       "    </tr>\n",
       "  </tbody>\n",
       "</table>\n",
       "</div>"
      ],
      "text/plain": [
       "    week_day  fare_amount\n",
       "0     Friday    11.210579\n",
       "1     Monday    11.167380\n",
       "2   Saturday    10.822599\n",
       "3     Sunday    11.412175\n",
       "4   Thursday    11.293469\n",
       "5    Tuesday    11.003409\n",
       "6  Wednesday    11.121971"
      ]
     },
     "execution_count": 31,
     "metadata": {},
     "output_type": "execute_result"
    }
   ],
   "source": [
    "fare_wk\n"
   ]
  },
  {
   "cell_type": "code",
   "execution_count": null,
   "metadata": {},
   "outputs": [],
   "source": []
  }
 ],
 "metadata": {
  "kernelspec": {
   "display_name": "Python 3",
   "language": "python",
   "name": "python3"
  },
  "language_info": {
   "codemirror_mode": {
    "name": "ipython",
    "version": 3
   },
   "file_extension": ".py",
   "mimetype": "text/x-python",
   "name": "python",
   "nbconvert_exporter": "python",
   "pygments_lexer": "ipython3",
   "version": "3.6.4"
  }
 },
 "nbformat": 4,
 "nbformat_minor": 1
}
